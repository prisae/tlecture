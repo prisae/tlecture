{
 "cells": [
  {
   "cell_type": "markdown",
   "id": "3f1a0ced",
   "metadata": {},
   "source": [
    "# Synthetic data -- importing our own module\n",
    "\n",
    "Let's assume we want to try some data processing steps. For this, we would like to create some synthetic data with some variations as a function of time $t$. We decide to use a sine function with a given amplitude $A$, a given period $T$, and a given shift $s$,\n",
    "\n",
    "$$\n",
    "d(t)= A \\sin\\left( \\frac{2 \\pi}{T} [t - s]\\right)\\ .\n",
    "$$\n",
    "\n",
    "The data will be a linear combination of a few different signals, and on top we will add some random noise."
   ]
  },
  {
   "cell_type": "code",
   "execution_count": null,
   "id": "51e815cd",
   "metadata": {},
   "outputs": [],
   "source": [
    "import numpy as np\n",
    "import matplotlib.pyplot as plt\n",
    "\n",
    "import tlecture"
   ]
  },
  {
   "cell_type": "raw",
   "id": "e1e98f63",
   "metadata": {},
   "source": [
    "tlecture.sinusoid?"
   ]
  },
  {
   "cell_type": "raw",
   "id": "5dd69619",
   "metadata": {},
   "source": [
    "tlecture.sinusoid??"
   ]
  },
  {
   "cell_type": "raw",
   "id": "33882313",
   "metadata": {},
   "source": [
    "tlecture.synthetic_data?"
   ]
  },
  {
   "cell_type": "markdown",
   "id": "902f5ec5",
   "metadata": {},
   "source": [
    "# Time vector (in days)"
   ]
  },
  {
   "cell_type": "code",
   "execution_count": null,
   "id": "cb59c779",
   "metadata": {},
   "outputs": [],
   "source": [
    "# Times 0-730 days (2 years)\n",
    "time = np.arange(0, 2*365+0.5)  # days"
   ]
  },
  {
   "cell_type": "code",
   "execution_count": null,
   "id": "992634d8",
   "metadata": {},
   "outputs": [],
   "source": [
    "# Original\n",
    "data = tlecture.synthetic_data(\n",
    "    times=time,\n",
    "    periods=[365*4, 365, 365/12],\n",
    "    shifts=[0, 200, 10],\n",
    "    amplitudes=[1, 1, 0.5],\n",
    "    random=0.5,\n",
    ")\n",
    "\n",
    "# Higher amplitude for 4-yearly; half-yearly instead yearly\n",
    "data2 = tlecture.synthetic_data(time, [365*4, 365/2, 365/12], [0, 200, 10], [2, 1, 0.5], 0.5)\n",
    "\n",
    "# Less randomness, higher amplitudes on yearly, and monthly\n",
    "data3 = tlecture.synthetic_data(time, [365*4, 365, 365/12], [0, 200, 10], [1, 2, 1], 0.2)\n",
    "\n",
    "\n",
    "fig, ax = plt.subplots(figsize=(12, 5))\n",
    "\n",
    "ax.plot(time, data, '.', label='Data')\n",
    "ax.plot(time, data2, '.', label='Data 2')\n",
    "ax.plot(time, data3, '.', label='Data 3')\n",
    "\n",
    "ax.set_xlabel('Time (days)')\n",
    "ax.set_ylabel('Signal')\n",
    "ax.legend();"
   ]
  },
  {
   "cell_type": "code",
   "execution_count": null,
   "id": "ea0a51b1",
   "metadata": {},
   "outputs": [],
   "source": [
    "# If you have scooby installed:\n",
    "import scooby\n",
    "scooby.Report()"
   ]
  }
 ],
 "metadata": {
  "kernelspec": {
   "display_name": "Python 3 (ipykernel)",
   "language": "python",
   "name": "python3"
  },
  "language_info": {
   "codemirror_mode": {
    "name": "ipython",
    "version": 3
   },
   "file_extension": ".py",
   "mimetype": "text/x-python",
   "name": "python",
   "nbconvert_exporter": "python",
   "pygments_lexer": "ipython3",
   "version": "3.9.10"
  }
 },
 "nbformat": 4,
 "nbformat_minor": 5
}
