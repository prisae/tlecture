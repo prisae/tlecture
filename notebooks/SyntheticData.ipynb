{
 "cells": [
  {
   "cell_type": "markdown",
   "id": "3f1a0ced",
   "metadata": {},
   "source": [
    "# Synthetic data\n",
    "\n",
    "Let's assume we want to try some data processing steps. For this, we would like to create some synthetic data with some variations as a function of time $t$. We decide to use a sine function with a given amplitude $A$, a given period $T$, and a given shift $s$,\n",
    "\n",
    "$$\n",
    "d(t)= A \\sin\\left( \\frac{2 \\pi}{T} [t - s]\\right)\\ .\n",
    "$$\n",
    "\n",
    "The data will be a linear combination of a few different signals, and on top we will add some random noise."
   ]
  },
  {
   "cell_type": "code",
   "execution_count": null,
   "id": "51e815cd",
   "metadata": {},
   "outputs": [],
   "source": [
    "import numpy as np\n",
    "import matplotlib.pyplot as plt\n",
    "\n",
    "# NumPy random number generator\n",
    "rng = np.random.default_rng()"
   ]
  },
  {
   "cell_type": "markdown",
   "id": "902f5ec5",
   "metadata": {},
   "source": [
    "# Time vector (in days)"
   ]
  },
  {
   "cell_type": "code",
   "execution_count": null,
   "id": "cb59c779",
   "metadata": {},
   "outputs": [],
   "source": [
    "# Times 0-730 days (2 years)\n",
    "time = np.arange(0, 2*365+0.5)  # days"
   ]
  },
  {
   "cell_type": "markdown",
   "id": "052ee5e2",
   "metadata": {},
   "source": [
    "# Start developing it"
   ]
  },
  {
   "cell_type": "code",
   "execution_count": null,
   "id": "027af4fa",
   "metadata": {},
   "outputs": [],
   "source": [
    "yearly = np.sin( 2 * np.pi / 365 * (time - 200))\n",
    "\n",
    "plt.figure()\n",
    "plt.plot(time, yearly)"
   ]
  },
  {
   "cell_type": "markdown",
   "id": "df7b7e48",
   "metadata": {},
   "source": [
    "# Some test data"
   ]
  },
  {
   "cell_type": "code",
   "execution_count": null,
   "id": "99615fb8",
   "metadata": {},
   "outputs": [],
   "source": [
    "year4 = np.sin( 2 * np.pi / (365 * 4) * time)\n",
    "yearly = np.sin( 2 * np.pi / 365 * (time - 200))\n",
    "monthly = 0.5 * np.sin( 2 * np.pi / (365 / 12) * (time - 10))\n",
    "random = 0.5 * rng.random(time.size)\n",
    "\n",
    "data = year4 + yearly + monthly + random\n",
    "\n",
    "fig, axs = plt.subplots(5, 1, figsize=(8, 8), sharex=True, sharey=True, constrained_layout=True)\n",
    "\n",
    "axs[0].plot(time, year4, label='4-yearly variation')\n",
    "axs[1].plot(time, yearly, label='Yearly variation')\n",
    "axs[2].plot(time, monthly, label='Monthly variation')\n",
    "axs[3].plot(time, random, label='Random variation')\n",
    "axs[4].plot(time, data, 'k.', label='Synthetic data')\n",
    "\n",
    "axs[4].set_xlabel('Time (days)')\n",
    "axs[2].set_ylabel('Signal')\n",
    "\n",
    "for ax in axs:\n",
    "    ax.legend()"
   ]
  },
  {
   "cell_type": "markdown",
   "id": "aaa496a0",
   "metadata": {},
   "source": [
    "# Variations! Now we start to play around"
   ]
  },
  {
   "cell_type": "code",
   "execution_count": null,
   "id": "ad55b9b8",
   "metadata": {},
   "outputs": [],
   "source": [
    "# Original\n",
    "year4 = np.sin( 2 * np.pi / (365 * 4) * time)\n",
    "yearly = np.sin( 2 * np.pi / 365 * (time - 200))\n",
    "monthly = 0.5 * np.sin( 2 * np.pi / (365 / 12) * (time - 10))\n",
    "random = 0.5 * rng.random(time.size)\n",
    "data = year4 + yearly + monthly + random\n",
    "\n",
    "# Higher amplitude for 4-yearly; half-yearly instead yearly\n",
    "year4 = 2 * np.sin( 2 * np.pi / (365 * 4) * time)\n",
    "thy = np.sin( 2 * np.pi / 365 * 2 * (time - 200))\n",
    "monthly = 0.5 * np.sin( 2 * np.pi / (365 / 12) * (time - 10))\n",
    "random = 0.5 * rng.random(time.size)\n",
    "data2 = year4 + thy + monthly + random\n",
    "\n",
    "# Less randomness, higher amplitudes on yearly, and monthly\n",
    "year4 = np.sin( 2 * np.pi / (365 * 4) * time)\n",
    "yearly = 2 * np.sin( 2 * np.pi / 365 * (time - 200))\n",
    "monthly = np.sin( 2 * np.pi / (365 / 12) * (time - 10))\n",
    "random = 0.2 * rng.random(time.size)\n",
    "data3 = year4 + yearly + monthly + random\n",
    "\n",
    "\n",
    "fig, ax = plt.subplots(figsize=(12, 5))\n",
    "\n",
    "ax.plot(time, data, '.', label='Data')\n",
    "ax.plot(time, data2, '.', label='Data 2')\n",
    "ax.plot(time, data3, '.', label='Data 3')\n",
    "\n",
    "ax.set_xlabel('Time (days)')\n",
    "ax.set_ylabel('Signal')\n",
    "ax.legend();"
   ]
  },
  {
   "cell_type": "markdown",
   "id": "b3dc4c8f",
   "metadata": {},
   "source": [
    "# Refactor your code!"
   ]
  },
  {
   "cell_type": "code",
   "execution_count": null,
   "id": "04c6a05d",
   "metadata": {},
   "outputs": [],
   "source": [
    "def sinusoid(times, period, shift=0, amplitude=1.0):\n",
    "    \"\"\"Create a sinuoidal trend for given input parameters.\"\"\"\n",
    "\n",
    "    # Angular frequency from period: w = 2\\pi f = 2 \\pi / T .\n",
    "    omega = 2 * np.pi / period\n",
    "\n",
    "    # Return sinusoid for given period, shift, and amplitude.\n",
    "    return amplitude * np.sin( omega * (times - shift))"
   ]
  },
  {
   "cell_type": "code",
   "execution_count": null,
   "id": "e51ff28d",
   "metadata": {},
   "outputs": [],
   "source": [
    "# Original\n",
    "year4 = sinusoid(time, period=365*4)\n",
    "yearly = sinusoid(time, period=365, shift=200)\n",
    "monthly = sinusoid(time, period=365/12, shift=10, amplitude=0.5)\n",
    "random = 0.5 * rng.random(time.size)\n",
    "data = year4 + yearly + monthly + random\n",
    "\n",
    "# Higher amplitude for 4-yearly; half-yearly instead yearly\n",
    "year4 = sinusoid(time, period=365*4, amplitude=2)\n",
    "thy = sinusoid(time, period=365/2, shift=200)\n",
    "monthly = sinusoid(time, period=365/12, shift=10, amplitude=0.5)\n",
    "random = 0.5 * rng.random(time.size)\n",
    "data2 = year4 + thy + monthly + random\n",
    "\n",
    "# Less randomness, higher amplitudes on yearly, and monthly\n",
    "year4 = sinusoid(time, period=365*4)\n",
    "yearly = sinusoid(time, period=365, shift=200, amplitude=2)\n",
    "monthly = sinusoid(time, period=365/12, shift=10)\n",
    "random = 0.2 * rng.random(time.size)\n",
    "data3 = year4 + yearly + monthly + random\n",
    "\n",
    "fig, ax = plt.subplots(figsize=(12, 5))\n",
    "\n",
    "ax.plot(time, data, '.', label='Data')\n",
    "ax.plot(time, data2, '.', label='Data 2')\n",
    "ax.plot(time, data3, '.', label='Data 3')\n",
    "\n",
    "ax.set_xlabel('Time (days)')\n",
    "ax.set_ylabel('Signal')\n",
    "ax.legend();"
   ]
  },
  {
   "cell_type": "markdown",
   "id": "82c25792",
   "metadata": {},
   "source": [
    "# Refactor again!"
   ]
  },
  {
   "cell_type": "code",
   "execution_count": null,
   "id": "94994586",
   "metadata": {},
   "outputs": [],
   "source": [
    "def synthetic_data(times, periods, shifts, amplitudes, random=1.0):\n",
    "    \"\"\"Synthetic data of linearly combined sinusoids with random data.\"\"\"\n",
    "    \n",
    "    # We could come input checks, e.g., that `periods`, `shifts`,\n",
    "    # and `amplitudes` are lists of the same length.\n",
    "    \n",
    "    # Pre-allocated output array.\n",
    "    data = np.zeros(times.size)\n",
    "    \n",
    "    # Loop over provided periods, shifts, and amplitudes.\n",
    "    for p, s, a in zip(periods, shifts, amplitudes):\n",
    "        data += sinusoid(times, p, s, a)\n",
    "        \n",
    "    # Add random data.\n",
    "    data += random*rng.random(times.size)\n",
    "        \n",
    "    # Return synthetic data.\n",
    "    return data"
   ]
  },
  {
   "cell_type": "code",
   "execution_count": null,
   "id": "992634d8",
   "metadata": {},
   "outputs": [],
   "source": [
    "# Original\n",
    "data = synthetic_data(\n",
    "    times=time,\n",
    "    periods=[365*4, 365, 365/12],\n",
    "    shifts=[0, 200, 10],\n",
    "    amplitudes=[1, 1, 0.5],\n",
    "    random=0.5,\n",
    ")\n",
    "\n",
    "# Higher amplitude for 4-yearly; half-yearly instead yearly\n",
    "data2 = synthetic_data(time, [365*4, 365/2, 365/12], [0, 200, 10], [2, 1, 0.5], 0.5)\n",
    "\n",
    "# Less randomness, higher amplitudes on yearly, and monthly\n",
    "data3 = synthetic_data(time, [365*4, 365, 365/12], [0, 200, 10], [1, 2, 1], 0.2)\n",
    "\n",
    "\n",
    "fig, ax = plt.subplots(figsize=(12, 5))\n",
    "\n",
    "ax.plot(time, data, '.', label='Data')\n",
    "ax.plot(time, data2, '.', label='Data 2')\n",
    "ax.plot(time, data3, '.', label='Data 3')\n",
    "\n",
    "ax.set_xlabel('Time (days)')\n",
    "ax.set_ylabel('Signal')\n",
    "ax.legend();"
   ]
  },
  {
   "cell_type": "code",
   "execution_count": null,
   "id": "ea0a51b1",
   "metadata": {},
   "outputs": [],
   "source": [
    "# If you have scooby installed:\n",
    "import scooby\n",
    "scooby.Report()"
   ]
  }
 ],
 "metadata": {
  "kernelspec": {
   "display_name": "Python 3 (ipykernel)",
   "language": "python",
   "name": "python3"
  },
  "language_info": {
   "codemirror_mode": {
    "name": "ipython",
    "version": 3
   },
   "file_extension": ".py",
   "mimetype": "text/x-python",
   "name": "python",
   "nbconvert_exporter": "python",
   "pygments_lexer": "ipython3",
   "version": "3.9.10"
  }
 },
 "nbformat": 4,
 "nbformat_minor": 5
}
